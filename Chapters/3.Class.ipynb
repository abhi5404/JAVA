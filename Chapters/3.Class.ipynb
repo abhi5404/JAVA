{
 "cells": [
  {
   "cell_type": "markdown",
   "id": "2f5dc928",
   "metadata": {},
   "source": [
    "# 🔹Class\n",
    "\n",
    "### 👉 In Java OOP, a class is like a blueprint or design.\n",
    "It tells what data (variables) and what actions (methods) an object will have.\n",
    "\n",
    "An object is like the real thing created from that blueprint.\n",
    "\n",
    "Example: If you have a class Car, it only describes cars (color, speed, brand).\n",
    "\n",
    "But an actual Toyota or BMW is an object — each with its own color, speed, etc.\n",
    "\n",
    "So,\n",
    "\n",
    "Class = Design/Template\n",
    "\n",
    "Object = Actual Thing created from the class"
   ]
  },
  {
   "cell_type": "code",
   "execution_count": 1,
   "id": "1494601c",
   "metadata": {},
   "outputs": [
    {
     "name": "stdout",
     "output_type": "stream",
     "text": [
      "Name: Rahul\n",
      "Roll No: 101\n",
      "Age: 20\n",
      "-------------\n",
      "Name: Priya\n",
      "Roll No: 102\n",
      "Age: 19\n"
     ]
    }
   ],
   "source": [
    "class Student {\n",
    "    String name;\n",
    "    int rollNo;\n",
    "    int age;\n",
    "\n",
    "    void displayInfo() {\n",
    "        System.out.println(\"Name: \" + name);\n",
    "        System.out.println(\"Roll No: \" + rollNo);\n",
    "        System.out.println(\"Age: \" + age);\n",
    "    }\n",
    "}\n",
    "\n",
    "public class Main {\n",
    "    public static void main(String[] args) {\n",
    "        Student s1 = new Student();\n",
    "        s1.name = \"Rahul\";\n",
    "        s1.rollNo = 101;\n",
    "        s1.age = 20;\n",
    "\n",
    "        Student s2 = new Student();\n",
    "        s2.name = \"Priya\";\n",
    "        s2.rollNo = 102;\n",
    "        s2.age = 19;\n",
    "\n",
    "        s1.displayInfo();\n",
    "        System.out.println(\"-------------\");\n",
    "        s2.displayInfo();\n",
    "    }\n",
    "}\n",
    "\n",
    "Main.main(null);   // <-- important in Jupyter to run the main method\n",
    "\n"
   ]
  },
  {
   "cell_type": "markdown",
   "id": "be149e10",
   "metadata": {},
   "source": [
    "# 🔹Types of Classes in Java\n",
    "\n",
    "### 1. Predefined Classes\n",
    "\n",
    "These are already built-in classes provided by Java.\n",
    "\n",
    "You don’t need to write them; you just use them.\n",
    "\n",
    "Examples:\n",
    "\n",
    "String → used to store text.\n",
    "\n",
    "Scanner → used to take user input.\n",
    "\n",
    "ArrayList → used to store dynamic lists.\n",
    "\n",
    "Math → used for mathematical operations.\n",
    "\n",
    "👉 Example of predefined class:"
   ]
  },
  {
   "cell_type": "code",
   "execution_count": 2,
   "id": "caf9833b",
   "metadata": {},
   "outputs": [],
   "source": [
    "import java.util.Scanner;\n",
    "\n",
    "public class PredefinedExample {\n",
    "    public static void main(String[] args) {\n",
    "        Scanner sc = new Scanner(System.in); // using predefined class\n",
    "        System.out.print(\"Enter your name: \");\n",
    "        String name = sc.nextLine(); // using String class\n",
    "        System.out.println(\"Hello, \" + name);\n",
    "    }\n",
    "}\n"
   ]
  },
  {
   "cell_type": "markdown",
   "id": "2292c2af",
   "metadata": {},
   "source": [
    "### 2. User-Defined Classes\n",
    "\n",
    "These are created by programmers according to their needs.\n",
    "\n",
    "Example: Student, Car, Employee, etc.\n",
    "\n",
    "We design these to store data and perform operations.\n",
    "\n",
    "👉 Example of user-defined class:"
   ]
  },
  {
   "cell_type": "code",
   "execution_count": 3,
   "id": "2409de9e",
   "metadata": {},
   "outputs": [],
   "source": [
    "class Student {\n",
    "    String name;\n",
    "    int roll;\n",
    "    int age;\n",
    "\n",
    "    // Method to display student details\n",
    "    void display() {\n",
    "        System.out.println(\"Name: \" + name);\n",
    "        System.out.println(\"Roll No: \" + roll);\n",
    "        System.out.println(\"Age: \" + age);\n",
    "    }\n",
    "}\n",
    "\n",
    "public class UserDefinedExample {\n",
    "    public static void main(String[] args) {\n",
    "        Student s1 = new Student();  // object creation\n",
    "        s1.name = \"Rahul\";\n",
    "        s1.roll = 101;\n",
    "        s1.age = 20;\n",
    "\n",
    "        s1.display();  // calling method\n",
    "    }\n",
    "}\n"
   ]
  }
 ],
 "metadata": {
  "kernelspec": {
   "display_name": "Java",
   "language": "java",
   "name": "java"
  },
  "language_info": {
   "codemirror_mode": "java",
   "file_extension": ".jshell",
   "mimetype": "text/x-java-source",
   "name": "java",
   "pygments_lexer": "java",
   "version": "17.0.16+8"
  }
 },
 "nbformat": 4,
 "nbformat_minor": 5
}
