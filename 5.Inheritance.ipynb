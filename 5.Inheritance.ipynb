{
 "cells": [
  {
   "cell_type": "markdown",
   "id": "a4d28951",
   "metadata": {},
   "source": [
    "# What is Inheritance in Java?\n",
    "### 🔹 Definition\n",
    "\n",
    "Inheritance is one of the four main pillars of Object-Oriented Programming (OOP) (along with Encapsulation, Abstraction, and Polymorphism).\n",
    "It allows a class (child/subclass) to acquire the properties and behaviors (fields and methods) of another class (parent/superclass).\n",
    "\n",
    "### 👉 In simple words:\n",
    "\n",
    "Inheritance means “reusing existing code” and “building new classes from old ones.”\n",
    "\n",
    "### 🔹 Purpose\n",
    "\n",
    "Code reusability\n",
    "\n",
    "Reduce redundancy\n",
    "\n",
    "Extensibility (add new features easily)\n",
    "\n",
    "Implement polymorphism"
   ]
  },
  {
   "cell_type": "markdown",
   "id": "698fe61b",
   "metadata": {},
   "source": [
    "# 🧩 2. Syntax of Inheritance"
   ]
  },
  {
   "cell_type": "code",
   "execution_count": null,
   "id": "e2150deb",
   "metadata": {},
   "outputs": [],
   "source": [
    "class ParentClass {\n",
    "    // fields and methods of parent\n",
    "}\n",
    "\n",
    "class ChildClass extends ParentClass {\n",
    "    // fields and methods of child\n",
    "}\n"
   ]
  },
  {
   "cell_type": "markdown",
   "id": "31ef21cb",
   "metadata": {},
   "source": [
    "#### ✅ The keyword extends is used to create inheritance in Java."
   ]
  },
  {
   "cell_type": "markdown",
   "id": "79d8fa3b",
   "metadata": {},
   "source": [
    "# 🧱 Simple (Single) Inheritance"
   ]
  },
  {
   "cell_type": "code",
   "execution_count": null,
   "id": "49f57875",
   "metadata": {},
   "outputs": [],
   "source": [
    "// Parent class\n",
    "class Animal {\n",
    "    void eat() {\n",
    "        System.out.println(\"This animal eats food.\");\n",
    "    }\n",
    "}\n",
    "\n",
    "// Child class\n",
    "class Dog extends Animal {\n",
    "    void bark() {\n",
    "        System.out.println(\"The dog barks.\");\n",
    "    }\n",
    "\n",
    "    public static void main(String[] args) {\n",
    "        Dog d = new Dog();\n",
    "        d.eat();   // inherited method\n",
    "        d.bark();  // child class method\n",
    "    }\n",
    "}\n",
    "\n",
    "\n",
    "\n",
    "🔹 Output\n",
    "This animal eats food.\n",
    "The dog barks.\n",
    "\n"
   ]
  },
  {
   "cell_type": "markdown",
   "id": "553457aa",
   "metadata": {},
   "source": [
    "# ✅Multilevel Inheritance\n",
    "\n",
    "A class inherits from another class, and then another class inherits from it.\n",
    "\n",
    "### Diagram:\n",
    "\n",
    "Animal → Mammal → Dog\n",
    "\n",
    "\n",
    "### Example:"
   ]
  },
  {
   "cell_type": "code",
   "execution_count": null,
   "id": "fe372016",
   "metadata": {},
   "outputs": [],
   "source": [
    "class Animal {\n",
    "    void eat() {\n",
    "        System.out.println(\"Eating...\");\n",
    "    }\n",
    "}\n",
    "\n",
    "class Mammal extends Animal {\n",
    "    void walk() {\n",
    "        System.out.println(\"Walking...\");\n",
    "    }\n",
    "}\n",
    "\n",
    "class Dog extends Mammal {\n",
    "    void bark() {\n",
    "        System.out.println(\"Barking...\");\n",
    "    }\n",
    "\n",
    "    public static void main(String[] args) {\n",
    "        Dog d = new Dog();\n",
    "        d.eat();\n",
    "        d.walk();\n",
    "        d.bark();\n",
    "    }\n",
    "}\n",
    "\n",
    "\n",
    "Output:\n",
    "\n",
    "Eating...\n",
    "Walking...\n",
    "Barking...\n"
   ]
  },
  {
   "cell_type": "markdown",
   "id": "9c0ae01d",
   "metadata": {},
   "source": [
    "# ✅ Hierarchical Inheritance\n",
    "\n",
    "Multiple classes inherit from the same parent.\n",
    "\n",
    "### Diagram:\n",
    "\n",
    "        Animal\n",
    "        /    \\\n",
    "    Dog      Cat\n",
    "\n",
    "\n",
    "### Example:"
   ]
  },
  {
   "cell_type": "code",
   "execution_count": null,
   "id": "fa5f17b1",
   "metadata": {},
   "outputs": [],
   "source": [
    "class Animal {\n",
    "    void eat() {\n",
    "        System.out.println(\"Eating...\");\n",
    "    }\n",
    "}\n",
    "\n",
    "class Dog extends Animal {\n",
    "    void bark() {\n",
    "        System.out.println(\"Barking...\");\n",
    "    }\n",
    "}\n",
    "\n",
    "class Cat extends Animal {\n",
    "    void meow() {\n",
    "        System.out.println(\"Meowing...\");\n",
    "    }\n",
    "\n",
    "    public static void main(String[] args) {\n",
    "        Dog d = new Dog();\n",
    "        Cat c = new Cat();\n",
    "        d.eat();\n",
    "        d.bark();\n",
    "        c.eat();\n",
    "        c.meow();\n",
    "    }\n",
    "}\n",
    "\n",
    "\n",
    "Output:\n",
    "\n",
    "Eating...\n",
    "Barking...\n",
    "Eating...\n",
    "Meowing..."
   ]
  },
  {
   "cell_type": "markdown",
   "id": "8451fb65",
   "metadata": {},
   "source": [
    "# D.Multiple Inheritance (Not Supported in Classes)\n",
    "\n",
    "Java does not allow multiple inheritance using classes (to prevent ambiguity).\n",
    "\n",
    "### Example (❌ Not allowed):"
   ]
  },
  {
   "cell_type": "code",
   "execution_count": null,
   "id": "04d16db0",
   "metadata": {},
   "outputs": [],
   "source": [
    "class A {\n",
    "    void show() { System.out.println(\"From A\"); }\n",
    "}\n",
    "\n",
    "class B {\n",
    "    void show() { System.out.println(\"From B\"); }\n",
    "}\n",
    "\n",
    "// ❌ Error: Class C cannot inherit from multiple classes\n",
    "class C extends A, B { }\n"
   ]
  },
  {
   "cell_type": "markdown",
   "id": "13eebce9",
   "metadata": {},
   "source": [
    "# Why Java Does NOT Support Multiple Inheritance with Classes\n",
    "\n",
    "\n",
    "Java does not support multiple inheritance using classes because it can cause ambiguity and confusion when two parent classes have the same method — the compiler wouldn’t know which one to inherit (this is called the Diamond Problem). To keep the language simple and clear, Java allows only single inheritance with classes, but it supports multiple inheritance through interfaces, since interfaces don’t have conflicting method implementations — the child class provides its own definition, avoiding any ambiguity.\n",
    "\n"
   ]
  }
 ],
 "metadata": {
  "kernelspec": {
   "display_name": "Java",
   "language": "java",
   "name": "java"
  },
  "language_info": {
   "codemirror_mode": "java",
   "file_extension": ".jshell",
   "mimetype": "text/x-java-source",
   "name": "java",
   "pygments_lexer": "java",
   "version": "17.0.16+8"
  }
 },
 "nbformat": 4,
 "nbformat_minor": 5
}
