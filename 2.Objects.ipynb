{
 "cells": [
  {
   "cell_type": "markdown",
   "id": "eb90a768",
   "metadata": {},
   "source": [
    "# 🔹What is an Object in Java?\n",
    "\n",
    "In Object-Oriented Programming (OOP), an object is a real-world entity that has state (data/attributes) and behavior (methods/functions).\n",
    "\n",
    "Class is the blueprint (template).\n",
    "\n",
    "Object is the instance (real version of the class).\n",
    "\n",
    "### 👉 Example:\n",
    "\n",
    "Class = Car (blueprint)\n",
    "\n",
    "Object = Toyota Corolla, BMW, Tesla (real cars created from the class).\n",
    "\n",
    "Each object stores its own data values, even if created from the same class.\n",
    "That’s why objects make programs more modular and reusable.\n",
    "\n",
    "### 🔹Features of an Object\n",
    "\n",
    "Identity → Each object is unique in memory.\n",
    "\n",
    "State → Represented by variables (e.g., name, rollNo, age).\n",
    "\n",
    "Behavior → Represented by methods (e.g., study(), drive(), eat()).\n",
    "\n",
    "### 🔹Syntax for Creating an Object in Java\n",
    "\n",
    "ClassName objectName = new ClassName();\n",
    "\n",
    "\n",
    "ClassName → Name of the class\n",
    "\n",
    "objectName → Reference variable (points to object in memory)\n",
    "\n",
    "new → Keyword to create a new object\n",
    "\n",
    "ClassName() → Constructor (initializes the object)"
   ]
  },
  {
   "cell_type": "code",
   "execution_count": 5,
   "id": "2360ab79",
   "metadata": {
    "vscode": {
     "languageId": "java"
    }
   },
   "outputs": [
    {
     "name": "stdout",
     "output_type": "stream",
     "text": [
      "Name: Rahul\n",
      "Roll No: 101\n",
      "Age: 20\n",
      "-------------------\n",
      "Name: Priya\n",
      "Roll No: 102\n",
      "Age: 19\n",
      "-------------------\n"
     ]
    }
   ],
   "source": [
    "// Define Student class\n",
    "class Student {\n",
    "    // Properties (fields)\n",
    "    String name;\n",
    "    int rollNo;\n",
    "    int age;\n",
    "\n",
    "    // Method to display information\n",
    "    void displayInfo() {\n",
    "        System.out.println(\"Name: \" + name);\n",
    "        System.out.println(\"Roll No: \" + rollNo);\n",
    "        System.out.println(\"Age: \" + age);\n",
    "        System.out.println(\"-------------------\");\n",
    "    }\n",
    "}\n",
    "\n",
    "// Main class\n",
    "public class Main {\n",
    "    public static void main(String[] args) {\n",
    "        // Creating objects\n",
    "        Student s1 = new Student();  // Object 1\n",
    "        s1.name = \"Rahul\";\n",
    "        s1.rollNo = 101;\n",
    "        s1.age = 20;\n",
    "\n",
    "        Student s2 = new Student();  // Object 2\n",
    "        s2.name = \"Priya\";\n",
    "        s2.rollNo = 102;\n",
    "        s2.age = 19;\n",
    "\n",
    "        // Calling method\n",
    "        s1.displayInfo();\n",
    "        s2.displayInfo();\n",
    "    }\n",
    "}\n",
    "\n",
    "Main.main(null);   \n"
   ]
  }
 ],
 "metadata": {
  "kernelspec": {
   "display_name": "Java",
   "language": "java",
   "name": "java"
  },
  "language_info": {
   "codemirror_mode": "java",
   "file_extension": ".jshell",
   "mimetype": "text/x-java-source",
   "name": "Java",
   "pygments_lexer": "java",
   "version": "17.0.16+8"
  }
 },
 "nbformat": 4,
 "nbformat_minor": 5
}
