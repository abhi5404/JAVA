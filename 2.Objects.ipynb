{
 "cells": [
  {
   "cell_type": "markdown",
   "id": "eb90a768",
   "metadata": {},
   "source": [
    "# 🔹What is an Object in Java?\n",
    "\n",
    "In Object-Oriented Programming (OOP), an object is a real-world entity that has state (data/attributes) and behavior (methods/functions).\n",
    "\n",
    "Class is the blueprint (template).\n",
    "\n",
    "Object is the instance (real version of the class).\n",
    "\n",
    "### 👉 Example:\n",
    "\n",
    "Class = Car (blueprint)\n",
    "\n",
    "Object = Toyota Corolla, BMW, Tesla (real cars created from the class).\n",
    "\n",
    "Each object stores its own data values, even if created from the same class.\n",
    "That’s why objects make programs more modular and reusable.\n",
    "\n",
    "### 🔹Features of an Object\n",
    "\n",
    "Identity → Each object is unique in memory.\n",
    "\n",
    "State → Represented by variables (e.g., name, rollNo, age).\n",
    "\n",
    "Behavior → Represented by methods (e.g., study(), drive(), eat()).\n",
    "\n",
    "### 🔹Syntax for Creating an Object in Java\n",
    "\n",
    "ClassName objectName = new ClassName();\n",
    "\n",
    "\n",
    "ClassName → Name of the class\n",
    "\n",
    "objectName → Reference variable (points to object in memory)\n",
    "\n",
    "new → Keyword to create a new object\n",
    "\n",
    "ClassName() → Constructor (initializes the object)"
   ]
  }
 ],
 "metadata": {
  "language_info": {
   "name": "python"
  }
 },
 "nbformat": 4,
 "nbformat_minor": 5
}
