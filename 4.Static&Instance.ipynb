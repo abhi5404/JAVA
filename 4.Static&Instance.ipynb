{
 "cells": [
  {
   "cell_type": "markdown",
   "id": "3cd51aec",
   "metadata": {},
   "source": [
    "# 🧩 1. Static Block in Java\n",
    "### 🔹 Definition\n",
    "\n",
    "A static block is a block of code that runs only once, when the class is loaded into memory (before any object is created and before the main() method runs).\n",
    "\n",
    "It is mainly used to initialize static variables or perform setup operations that are required once per class.\n",
    "\n",
    "### 🔹 Syntax\n",
    "static {\n",
    "    // code to be executed once when the class is loaded\n",
    "}\n",
    "\n",
    "### 🔹 Key Points\n",
    "\n",
    "Executed only once when the class is loaded by JVM.\n",
    "\n",
    "Runs before the main method and before any object is created.\n",
    "\n",
    "Used for static initialization.\n",
    "\n",
    "Cannot access non-static (instance) members directly.\n",
    "\n",
    "### 🔹 Example\n",
    "class StaticExample {\n",
    "    static int count;\n",
    "\n",
    "    // Static block\n",
    "    static {\n",
    "        System.out.println(\"Static block is executed.\");\n",
    "        count = 10; // initializing static variable\n",
    "    }\n",
    "\n",
    "    public static void main(String[] args) {\n",
    "        System.out.println(\"Main method is executed.\");\n",
    "        System.out.println(\"Count = \" + count);\n",
    "    }\n",
    "}\n",
    "\n",
    "### 🔹 Output\n",
    "Static block is executed.\n",
    "Main method is executed.\n",
    "Count = 10"
   ]
  }
 ],
 "metadata": {
  "language_info": {
   "name": "python"
  }
 },
 "nbformat": 4,
 "nbformat_minor": 5
}
