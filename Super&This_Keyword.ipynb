{
 "cells": [
  {
   "cell_type": "markdown",
   "id": "e0fd9e7d",
   "metadata": {},
   "source": [
    "# `super` and `this` Keywords in Java\n",
    "\n",
    "In Java, both **`super`** and **`this`** are special keywords that help in **accessing class members** and **constructors** in **inheritance and object-oriented programming**.  \n",
    "They improve **code clarity** and **control over class hierarchies**.\n",
    "\n",
    "---\n",
    "\n",
    "## 🔹 `this` Keyword\n",
    "\n",
    "The **`this`** keyword refers to the **current class object** — the object on which a method or constructor is being invoked.\n",
    "\n",
    "### ✅ Uses of `this`:\n",
    "1. To **differentiate instance variables** from local variables.\n",
    "2. To **call another constructor** in the same class.\n",
    "3. To **pass the current object** as an argument.\n",
    "4. To **return the current object** from a method.\n",
    "\n",
    "### 🧩 Syntax:\n",
    "```java\n",
    "this.variableName\n",
    "this.methodName()\n",
    "this()\n"
   ]
  },
  {
   "cell_type": "markdown",
   "id": "9c082c9b",
   "metadata": {},
   "source": [
    "### 💡 Example:"
   ]
  },
  {
   "cell_type": "code",
   "execution_count": null,
   "id": "90ba5b59",
   "metadata": {},
   "outputs": [],
   "source": [
    "class Student {\n",
    "    String name;\n",
    "    int age;\n",
    "\n",
    "    // Constructor using this keyword\n",
    "    Student(String name, int age) {\n",
    "        this.name = name;  // 'this' differentiates instance variable from parameter\n",
    "        this.age = age;\n",
    "    }\n",
    "\n",
    "    void display() {\n",
    "        System.out.println(\"Name: \" + this.name + \", Age: \" + this.age);\n",
    "    }\n",
    "\n",
    "    public static void main(String[] args) {\n",
    "        Student s1 = new Student(\"Arjun\", 21);\n",
    "        s1.display();\n",
    "    }\n",
    "}\n",
    "\n",
    "\n",
    "🧠 Output:\n",
    "Name: Arjun, Age: 21\n"
   ]
  },
  {
   "cell_type": "markdown",
   "id": "f3af8000",
   "metadata": {},
   "source": [
    "# 🔹 super Keyword\n",
    "\n",
    "The super keyword refers to the immediate parent class object.\n",
    "It is mainly used when a subclass needs to access parent class members or constructors.\n",
    "\n",
    "### ✅ Uses of super:\n",
    "\n",
    "To call parent class constructor.\n",
    "\n",
    "To access parent class variables or methods hidden by the subclass.\n",
    "\n",
    "To invoke overridden methods from the parent class.\n",
    "\n",
    "### 🧩 Syntax:\n",
    "super.variableName\n",
    "super.methodName()\n",
    "super()\n",
    "\n",
    "### 💡 Example:"
   ]
  },
  {
   "cell_type": "code",
   "execution_count": null,
   "id": "cc8d45f6",
   "metadata": {},
   "outputs": [],
   "source": [
    "class Animal {\n",
    "    String name = \"Generic Animal\";\n",
    "\n",
    "    void sound() {\n",
    "        System.out.println(\"Animal makes a sound\");\n",
    "    }\n",
    "}\n",
    "\n",
    "class Dog extends Animal {\n",
    "    String name = \"Dog\";\n",
    "\n",
    "    void sound() {\n",
    "        System.out.println(\"Dog barks\");\n",
    "    }\n",
    "\n",
    "    void display() {\n",
    "        System.out.println(\"Child name: \" + name);\n",
    "        System.out.println(\"Parent name: \" + super.name);\n",
    "        super.sound(); // Calls parent method\n",
    "    }\n",
    "\n",
    "    Dog() {\n",
    "        super(); // Calls parent constructor (if defined)\n",
    "    }\n",
    "\n",
    "    public static void main(String[] args) {\n",
    "        Dog d = new Dog();\n",
    "        d.display();\n",
    "    }\n",
    "}\n",
    "\n",
    "\n",
    "🧠 Output:\n",
    "Child name: Dog\n",
    "Parent name: Generic Animal\n",
    "Animal makes a sound\n"
   ]
  }
 ],
 "metadata": {
  "kernelspec": {
   "display_name": "Java",
   "language": "java",
   "name": "java"
  },
  "language_info": {
   "name": "java"
  }
 },
 "nbformat": 4,
 "nbformat_minor": 5
}
