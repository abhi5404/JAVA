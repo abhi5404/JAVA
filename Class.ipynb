{
 "cells": [
  {
   "cell_type": "markdown",
   "id": "2f5dc928",
   "metadata": {},
   "source": [
    "# Class\n",
    "\n",
    "### 👉 In Java OOP, a class is like a blueprint or design.\n",
    "It tells what data (variables) and what actions (methods) an object will have.\n",
    "\n",
    "An object is like the real thing created from that blueprint.\n",
    "\n",
    "Example: If you have a class Car, it only describes cars (color, speed, brand).\n",
    "\n",
    "But an actual Toyota or BMW is an object — each with its own color, speed, etc.\n",
    "\n",
    "So,\n",
    "\n",
    "Class = Design/Template\n",
    "\n",
    "Object = Actual Thing created from the class"
   ]
  },
  {
   "cell_type": "code",
   "execution_count": 10,
   "id": "1494601c",
   "metadata": {
    "vscode": {
     "languageId": "java"
    }
   },
   "outputs": [
    {
     "name": "stdout",
     "output_type": "stream",
     "text": [
      "Name: Rahul\n",
      "Roll No: 101\n",
      "Age: 20\n",
      "-------------\n",
      "Name: Priya\n",
      "Roll No: 102\n",
      "Age: 19\n"
     ]
    }
   ],
   "source": [
    "class Student {\n",
    "    String name;\n",
    "    int rollNo;\n",
    "    int age;\n",
    "\n",
    "    void displayInfo() {\n",
    "        System.out.println(\"Name: \" + name);\n",
    "        System.out.println(\"Roll No: \" + rollNo);\n",
    "        System.out.println(\"Age: \" + age);\n",
    "    }\n",
    "}\n",
    "\n",
    "public class Main {\n",
    "    public static void main(String[] args) {\n",
    "        Student s1 = new Student();\n",
    "        s1.name = \"Rahul\";\n",
    "        s1.rollNo = 101;\n",
    "        s1.age = 20;\n",
    "\n",
    "        Student s2 = new Student();\n",
    "        s2.name = \"Priya\";\n",
    "        s2.rollNo = 102;\n",
    "        s2.age = 19;\n",
    "\n",
    "        s1.displayInfo();\n",
    "        System.out.println(\"-------------\");\n",
    "        s2.displayInfo();\n",
    "    }\n",
    "}\n",
    "\n",
    "Main.main(null);   // <-- important in Jupyter to run the main method\n",
    "\n"
   ]
  }
 ],
 "metadata": {
  "kernelspec": {
   "display_name": "Java",
   "language": "java",
   "name": "java"
  },
  "language_info": {
   "codemirror_mode": "java",
   "file_extension": ".jshell",
   "mimetype": "text/x-java-source",
   "name": "Java",
   "pygments_lexer": "java",
   "version": "17.0.16+8"
  }
 },
 "nbformat": 4,
 "nbformat_minor": 5
}
