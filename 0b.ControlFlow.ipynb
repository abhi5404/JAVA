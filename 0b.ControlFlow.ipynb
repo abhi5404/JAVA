{
 "cells": [
  {
   "cell_type": "markdown",
   "id": "5fdf2b35",
   "metadata": {},
   "source": [
    "# Control Flow in Java\n",
    "\n",
    "Control flow statements determine the order in which statements are executed.\n",
    "\n",
    "## a. Conditional Statements\n",
    "\n",
    "### if statement"
   ]
  },
  {
   "cell_type": "code",
   "execution_count": null,
   "id": "e4371ec6",
   "metadata": {
    "vscode": {
     "languageId": "plaintext"
    }
   },
   "outputs": [],
   "source": [
    "if (age >= 18) {\n",
    "    System.out.println(\"Adult\");\n",
    "}\n"
   ]
  },
  {
   "cell_type": "markdown",
   "id": "effebcae",
   "metadata": {},
   "source": [
    "### if-else statement"
   ]
  },
  {
   "cell_type": "code",
   "execution_count": null,
   "id": "6f3a01c2",
   "metadata": {
    "vscode": {
     "languageId": "plaintext"
    }
   },
   "outputs": [],
   "source": [
    "if (age >= 18) {\n",
    "    System.out.println(\"Adult\");\n",
    "} else {\n",
    "    System.out.println(\"Minor\");\n",
    "}\n"
   ]
  },
  {
   "cell_type": "markdown",
   "id": "4cf30bb9",
   "metadata": {},
   "source": [
    "### if-else-if ladder"
   ]
  },
  {
   "cell_type": "code",
   "execution_count": null,
   "id": "3938c4f6",
   "metadata": {
    "vscode": {
     "languageId": "plaintext"
    }
   },
   "outputs": [],
   "source": [
    "if (score >= 90) {\n",
    "    System.out.println(\"A grade\");\n",
    "} else if (score >= 75) {\n",
    "    System.out.println(\"B grade\");\n",
    "} else {\n",
    "    System.out.println(\"C grade\");\n",
    "}\n"
   ]
  },
  {
   "cell_type": "markdown",
   "id": "d4ca9792",
   "metadata": {},
   "source": [
    "### switch statement"
   ]
  },
  {
   "cell_type": "code",
   "execution_count": null,
   "id": "d1d62fe0",
   "metadata": {
    "vscode": {
     "languageId": "plaintext"
    }
   },
   "outputs": [],
   "source": [
    "int day = 3;\n",
    "switch(day) {\n",
    "    case 1: System.out.println(\"Monday\"); break;\n",
    "    case 2: System.out.println(\"Tuesday\"); break;\n",
    "    case 3: System.out.println(\"Wednesday\"); break;\n",
    "    default: System.out.println(\"Invalid day\");\n",
    "}\n"
   ]
  },
  {
   "cell_type": "markdown",
   "id": "84609cc8",
   "metadata": {},
   "source": [
    "## b. Looping Statements\n",
    "\n",
    "### for loop"
   ]
  },
  {
   "cell_type": "code",
   "execution_count": null,
   "id": "4be7f643",
   "metadata": {
    "vscode": {
     "languageId": "plaintext"
    }
   },
   "outputs": [],
   "source": [
    "for(int i = 1; i <= 5; i++) {\n",
    "    System.out.println(\"i = \" + i);\n",
    "}\n"
   ]
  },
  {
   "cell_type": "markdown",
   "id": "d33c7822",
   "metadata": {},
   "source": [
    "### while loop"
   ]
  },
  {
   "cell_type": "code",
   "execution_count": null,
   "id": "b5b88837",
   "metadata": {
    "vscode": {
     "languageId": "plaintext"
    }
   },
   "outputs": [],
   "source": [
    "int i = 1;\n",
    "while(i <= 5) {\n",
    "    System.out.println(\"i = \" + i);\n",
    "    i++;\n",
    "}\n"
   ]
  },
  {
   "cell_type": "markdown",
   "id": "1dc286e8",
   "metadata": {},
   "source": [
    "### do-while loop"
   ]
  },
  {
   "cell_type": "code",
   "execution_count": null,
   "id": "9787be38",
   "metadata": {
    "vscode": {
     "languageId": "plaintext"
    }
   },
   "outputs": [],
   "source": [
    "int i = 1;\n",
    "do {\n",
    "    System.out.println(\"i = \" + i);\n",
    "    i++;\n",
    "} while(i <= 5);\n"
   ]
  },
  {
   "cell_type": "markdown",
   "id": "3c90cfe9",
   "metadata": {},
   "source": [
    "## c. Jump Statements\n",
    "\n",
    "break – exit loop or switch.\n",
    "\n",
    "continue – skip current iteration and move to next.\n",
    "\n",
    "return – exit from method and optionally return a value."
   ]
  },
  {
   "cell_type": "code",
   "execution_count": null,
   "id": "a1a501a5",
   "metadata": {
    "vscode": {
     "languageId": "plaintext"
    }
   },
   "outputs": [],
   "source": [
    "for(int i=1; i<=5; i++) {\n",
    "    if(i==3) continue;   // skip i=3\n",
    "    if(i==5) break;      // exit loop\n",
    "    System.out.println(i);\n",
    "}\n"
   ]
  }
 ],
 "metadata": {
  "language_info": {
   "name": "python"
  }
 },
 "nbformat": 4,
 "nbformat_minor": 5
}
