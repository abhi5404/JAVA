{
 "cells": [
  {
   "cell_type": "markdown",
   "id": "350dc48f",
   "metadata": {},
   "source": [
    "# Variables in Java\n",
    "\n",
    "Variables are containers to store data in a program. In Java, every variable has a type, which determines what kind of data it can hold.\n",
    "\n",
    "### Syntax\n",
    "type variableName = value;\n",
    "\n",
    "Example\n",
    "int age = 25;           // Integer variable\n",
    "\n",
    "double salary = 45000.50;  // Floating-point variable\n",
    "\n",
    "char grade = 'A';       // Character variable\n",
    "\n",
    "boolean isJavaFun = true;  // Boolean variable\n",
    "\n",
    "### Variable Types\n",
    "\n",
    "Local Variables – Declared inside a method or block and accessible only there.\n",
    "\n",
    "Instance Variables – Declared inside a class but outside methods; each object has its copy.\n",
    "\n",
    "Static Variables (Class Variables) – Declared with static keyword; shared by all objects of the class.\n",
    "\n",
    "Final Variables – Declared with final keyword; value cannot change once assigned."
   ]
  },
  {
   "cell_type": "markdown",
   "id": "a94f2327",
   "metadata": {},
   "source": [
    "# Data Types in Java\n",
    "\n",
    "Java is a strongly-typed language, meaning each variable must have a defined type.\n",
    "\n",
    "| Type      | Size    | Description                   | Example                       |\n",
    "| --------- | ------- | ----------------------------- | ----------------------------- |\n",
    "| `byte`    | 1 byte  | Small integer values          | `byte b = 100;`               |\n",
    "| `short`   | 2 bytes | Small integer values          | `short s = 500;`              |\n",
    "| `int`     | 4 bytes | Default integer               | `int age = 25;`               |\n",
    "| `long`    | 8 bytes | Large integer values          | `long population = 7000000L;` |\n",
    "| `float`   | 4 bytes | Decimal number                | `float pi = 3.14f;`           |\n",
    "| `double`  | 8 bytes | Decimal number (more precise) | `double salary = 45000.50;`   |\n",
    "| `char`    | 2 bytes | Single character              | `char grade = 'A';`           |\n",
    "| `boolean` | 1 bit   | True or false                 | `boolean isJavaFun = true;`   |\n",
    "\n",
    "\n",
    "### Non-Primitive Data Types\n",
    "\n",
    "String – sequence of characters, e.g., \"Hello Java\".\n",
    "\n",
    "Arrays – store multiple values of the same type.\n",
    "\n",
    "Classes, Interfaces, Enums, etc.\n"
   ]
  },
  {
   "cell_type": "markdown",
   "id": "4ceb3086",
   "metadata": {},
   "source": [
    "# Comments in Java\n",
    "\n",
    "Comments are used to explain code. They are ignored by the compiler.\n",
    "\n",
    "### Types of Comments\n",
    "\n",
    "#### Single-line Comment"
   ]
  },
  {
   "cell_type": "code",
   "execution_count": null,
   "id": "4c4cdbe5",
   "metadata": {
    "vscode": {
     "languageId": "plaintext"
    }
   },
   "outputs": [],
   "source": [
    "// This is a single-line comment\n",
    "int age = 25;  // variable age\n"
   ]
  },
  {
   "cell_type": "markdown",
   "id": "45297091",
   "metadata": {},
   "source": [
    "#### Multiline Comment "
   ]
  },
  {
   "cell_type": "code",
   "execution_count": null,
   "id": "42759223",
   "metadata": {
    "vscode": {
     "languageId": "plaintext"
    }
   },
   "outputs": [],
   "source": [
    "/*\n",
    " This is a multi-line comment\n",
    " It can span multiple lines\n",
    "*/\n"
   ]
  },
  {
   "cell_type": "markdown",
   "id": "2315239c",
   "metadata": {},
   "source": [
    "#### Documentation Comment (used with javadoc)"
   ]
  },
  {
   "cell_type": "code",
   "execution_count": null,
   "id": "26cac5ca",
   "metadata": {
    "vscode": {
     "languageId": "plaintext"
    }
   },
   "outputs": [],
   "source": [
    "/**\n",
    " * This method adds two numbers\n",
    " * @param a first number\n",
    " * @param b second number\n",
    " * @return sum of a and b\n",
    " */\n",
    "public int add(int a, int b) {\n",
    "    return a + b;\n",
    "}\n"
   ]
  }
 ],
 "metadata": {
  "language_info": {
   "name": "python"
  }
 },
 "nbformat": 4,
 "nbformat_minor": 5
}
